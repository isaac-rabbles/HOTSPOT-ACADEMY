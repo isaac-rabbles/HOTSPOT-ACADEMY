{
 "cells": [
  {
   "cell_type": "markdown",
   "metadata": {},
   "source": [
    "#### QUESTION 1: Create a list of 2 strings, 5 floats, 4 intergers and append all these data types into new list called Dtypes.\n"
   ]
  },
  {
   "cell_type": "code",
   "execution_count": 20,
   "metadata": {},
   "outputs": [
    {
     "name": "stdout",
     "output_type": "stream",
     "text": [
      "['Barcelona', 3, 4, 'Frankfurt', 14, 22, 5.0, 16.5, 23.2, 45.8, 34.0]\n"
     ]
    }
   ],
   "source": [
    "# Solution 1\n",
    "x = ['Barcelona','Frankfurt']\n",
    "y = [3,4,14,22]\n",
    "z = [5.0,16.5,23.2,45.8,34.0]\n",
    "#print(type(z[3]))\n",
    "\n",
    "Dtypes = []\n",
    "Dtypes.append(x[0])\n",
    "Dtypes.append(y[0])\n",
    "Dtypes.append(y[1])\n",
    "Dtypes.append(x[1])\n",
    "Dtypes.append(y[2])\n",
    "Dtypes.append(y[3])\n",
    "Dtypes.append(z[0])\n",
    "Dtypes.append(z[1])\n",
    "Dtypes.append(z[2])\n",
    "Dtypes.append(z[3])\n",
    "Dtypes.append(z[4])\n",
    "\n",
    "print(Dtypes)"
   ]
  },
  {
   "cell_type": "markdown",
   "metadata": {},
   "source": [
    "#### QUESTION 2: Create a list of numbers ranging from 5 with an interval of 2 and the pernultimate number should be 19"
   ]
  },
  {
   "cell_type": "code",
   "execution_count": 29,
   "metadata": {
    "scrolled": true
   },
   "outputs": [
    {
     "name": "stdout",
     "output_type": "stream",
     "text": [
      "[5, 7, 9, 11, 13, 15, 17, 19]\n"
     ]
    }
   ],
   "source": [
    "# Solution 2\n",
    "num_list = [*range(5,20,2)]\n",
    "print(num_list)\n"
   ]
  },
  {
   "cell_type": "markdown",
   "metadata": {},
   "source": [
    "#### QUESTION 3: For numbers in list above, Using the IF ELSE function, Print 'number + it is even' if divisible by 3' else print ' Not even'"
   ]
  },
  {
   "cell_type": "code",
   "execution_count": 36,
   "metadata": {},
   "outputs": [
    {
     "name": "stdout",
     "output_type": "stream",
     "text": [
      "Not even\n",
      "Not even\n",
      "9 it is even\n",
      "Not even\n",
      "Not even\n",
      "15 it is even\n",
      "Not even\n",
      "Not even\n"
     ]
    }
   ],
   "source": [
    "# Solution 3\n",
    "for num in num_list:\n",
    "    if num % 3 == 0:\n",
    "        print(str(num) +  ' it is even')\n",
    "    else:\n",
    "        print( 'Not even')"
   ]
  },
  {
   "cell_type": "markdown",
   "metadata": {},
   "source": [
    "#### QUESTION 4: \n",
    "1. Create a variable ADA\n",
    "2. Create a variable for the number 30\n",
    "3. Print ADA is 30KM from Accra"
   ]
  },
  {
   "cell_type": "code",
   "execution_count": 37,
   "metadata": {},
   "outputs": [
    {
     "name": "stdout",
     "output_type": "stream",
     "text": [
      "ADA is 30KM from Accra\n"
     ]
    }
   ],
   "source": [
    "# Solution 4\n",
    "a = 'ADA' \n",
    "b = 30\n",
    "\n",
    "print(a + ' is '  + str(b) + 'KM from Accra')"
   ]
  },
  {
   "cell_type": "markdown",
   "metadata": {},
   "source": [
    "#### Question 5: From the items below,create a list for each data type"
   ]
  },
  {
   "cell_type": "code",
   "execution_count": 52,
   "metadata": {},
   "outputs": [],
   "source": [
    "Essentials = [False,24,'Books','Phone',10.5,'Gh_Cedi','Laptop',True,'Shelter','Food', 15,'Job','54m',20,7.5,23,40,9.0,32,48]"
   ]
  },
  {
   "cell_type": "code",
   "execution_count": 15,
   "metadata": {},
   "outputs": [
    {
     "name": "stdout",
     "output_type": "stream",
     "text": [
      "['Books', 'Phone', 'Gh_Cedi', 'Laptop', 'Shelter', 'Food', 'Job', '54m']\n",
      "[10.5, 7.5, 9.0]\n",
      "[24, 15, 20, 23, 40, 32, 48]\n",
      "[False, True]\n"
     ]
    }
   ],
   "source": [
    "# Solution 5\n",
    "# Process should be automated please\n",
    "str_dtype = []\n",
    "float_dtype = []\n",
    "int_dtype = []\n",
    "bool_dtype = []\n",
    "\n",
    "for item in Essentials:\n",
    "    if isinstance(item, str) == True:\n",
    "        str_dtype.append(item)\n",
    "    elif isinstance(item, float) == True:\n",
    "        float_dtype.append(item)\n",
    "    elif isinstance(item, bool) == True:\n",
    "        bool_dtype.append(item)\n",
    "    else:\n",
    "        int_dtype.append(item)\n",
    "        \n",
    "print(str_dtype)\n",
    "print(float_dtype)\n",
    "print(int_dtype)\n",
    "print(bool_dtype)\n",
    "        \n",
    "        \n",
    "    "
   ]
  },
  {
   "cell_type": "markdown",
   "metadata": {},
   "source": [
    "#### Question 6: \n",
    "1. Print out the index for Shelter\n",
    "2. Print out the index for the number 20 \n",
    "3. Print out the index for the number 1 \n",
    "4. Delete the item in the 15th index"
   ]
  },
  {
   "cell_type": "code",
   "execution_count": 55,
   "metadata": {},
   "outputs": [
    {
     "name": "stdout",
     "output_type": "stream",
     "text": [
      "8\n",
      "13\n",
      "7\n"
     ]
    }
   ],
   "source": [
    "\n",
    "print(Essentials.index('Shelter'))\n",
    "print(Essentials.index(20))\n",
    "print(Essentials.index(1))"
   ]
  },
  {
   "cell_type": "code",
   "execution_count": 53,
   "metadata": {},
   "outputs": [
    {
     "name": "stdout",
     "output_type": "stream",
     "text": [
      "[False, 24, 'Books', 'Phone', 10.5, 'Gh_Cedi', 'Laptop', True, 'Shelter', 'Food', 15, 'Job', '54m', 20, 7.5, 40, 9.0, 32, 48]\n"
     ]
    }
   ],
   "source": [
    "Essentials.pop(15)\n",
    "print(Essentials)"
   ]
  },
  {
   "cell_type": "code",
   "execution_count": null,
   "metadata": {},
   "outputs": [],
   "source": []
  },
  {
   "cell_type": "code",
   "execution_count": null,
   "metadata": {},
   "outputs": [],
   "source": []
  }
 ],
 "metadata": {
  "kernelspec": {
   "display_name": "Python 3",
   "language": "python",
   "name": "python3"
  },
  "language_info": {
   "codemirror_mode": {
    "name": "ipython",
    "version": 3
   },
   "file_extension": ".py",
   "mimetype": "text/x-python",
   "name": "python",
   "nbconvert_exporter": "python",
   "pygments_lexer": "ipython3",
   "version": "3.8.5"
  }
 },
 "nbformat": 4,
 "nbformat_minor": 5
}
